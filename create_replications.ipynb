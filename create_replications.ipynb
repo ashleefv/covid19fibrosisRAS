{
 "cells": [
  {
   "cell_type": "markdown",
   "id": "a662e7ae",
   "metadata": {},
   "source": [
    "### User input for generating replications of template folder\n",
    "\n",
    "For generating replications, a [template code] and [create_replications.ipynb] are placed in the same folder. First, open the [create_replications.ipynb] using IDE (e.g., PyCharm and Google Colab) and update group name in following code block using the template code folder name. \n",
    "\n",
    "The following example is for template folder 1000 and 15 replications. All replications used in the manuscript are available upon request.\n",
    "\n",
    "\n",
    "[template code]: https://github.com/ashleefv/covid19fibrosisRAS/tree/master/Template%20of%20in%20silico%20experiments\n",
    "[create_replications.ipynb]: https://github.com/ashleefv/covid19fibrosisRAS/blob/master/create_replications.ipynb"
   ]
  },
  {
   "cell_type": "code",
   "execution_count": 1,
   "id": "bf1cd7a4",
   "metadata": {},
   "outputs": [],
   "source": [
    "group = '1000'\n",
    "replication = 15"
   ]
  },
  {
   "cell_type": "markdown",
   "id": "8332bc6d",
   "metadata": {},
   "source": [
    "### Importing required library"
   ]
  },
  {
   "cell_type": "code",
   "execution_count": 2,
   "id": "a8ce1878",
   "metadata": {},
   "outputs": [],
   "source": [
    "import os"
   ]
  },
  {
   "cell_type": "markdown",
   "id": "0b71cca6",
   "metadata": {},
   "source": [
    "### Generating replications"
   ]
  },
  {
   "cell_type": "code",
   "execution_count": null,
   "id": "897bb72c",
   "metadata": {},
   "outputs": [],
   "source": [
    "root_directory = os.getcwd()\n",
    "try:\n",
    "    os.chdir(group)\n",
    "except:\n",
    "    print('Add a template directory for simulation')\n",
    "\n",
    "path = root_directory+ '\\\\' + group + '\\\\'\n",
    "\n",
    "for i in range(replication):\n",
    "    itc = i + 1\n",
    "    os.chdir(path)\n",
    "    new_simulation = 'cp -rf template ' + str(itc)\n",
    "    os.system(new_simulation)\n",
    "\n",
    "    path1 = path + str(itc)\n",
    "    os.chdir(path1)\n",
    "    os.system(\"start /B make data-cleanup & make & .\\COVID19\")"
   ]
  }
 ],
 "metadata": {
  "kernelspec": {
   "display_name": "Python 3 (ipykernel)",
   "language": "python",
   "name": "python3"
  },
  "language_info": {
   "codemirror_mode": {
    "name": "ipython",
    "version": 3
   },
   "file_extension": ".py",
   "mimetype": "text/x-python",
   "name": "python",
   "nbconvert_exporter": "python",
   "pygments_lexer": "ipython3",
   "version": "3.9.7"
  }
 },
 "nbformat": 4,
 "nbformat_minor": 5
}
